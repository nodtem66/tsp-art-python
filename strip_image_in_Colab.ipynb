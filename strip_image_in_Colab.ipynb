{
  "cells": [
    {
      "cell_type": "markdown",
      "metadata": {
        "id": "9y7YdDnGD5_m"
      },
      "source": [
        "# Arts from Traveling Salesman Problem (TSP)\n",
        "\n",
        "This notebook will generate a strippen image for TSP art using [@matthtas](https://github.com/matthras/tsp-art-python/commits?author=matthras)'s scripts. *This notebook is designed for running in Google Colab*. You don't have to clone and install it locally. You just upload an input image to Colab working space (like `/content/`) using the left-side panel and then change the value of `ORIGINAL_IMAGE`.\n",
        "\n",
        "**Changelog**\n",
        "- Update to Imageio.v2 (Oct. 2025, Jirawat)"
      ]
    },
    {
      "cell_type": "code",
      "execution_count": null,
      "metadata": {
        "colab": {
          "base_uri": "https://localhost:8080/"
        },
        "id": "5xEhZcb7DdgT",
        "outputId": "cd448fd5-53ae-4174-f4d2-bd309aba549f"
      },
      "outputs": [],
      "source": [
        "#@title Install tsp-art-python\n",
        "!git clone https://github.com/nodtem66/tsp-art-python\n",
        "%cd tsp-art-python/\n",
        "!pip install -r requirements.txt"
      ]
    },
    {
      "cell_type": "markdown",
      "metadata": {
        "id": "Yu7wlwJwEjRc"
      },
      "source": [
        "### Prepare the image\n",
        "\n",
        "Upload the image to colab working space and change the value of `ORIGINAL_IMAGE`"
      ]
    },
    {
      "cell_type": "code",
      "execution_count": null,
      "metadata": {
        "colab": {
          "base_uri": "https://localhost:8080/"
        },
        "id": "R3LcyYUGFHop",
        "outputId": "3676832f-310b-423d-f228-e9330e7cb58a"
      },
      "outputs": [],
      "source": [
        "#@title Script to generate nodes for TSP art\n",
        "# Copyright Matthew Mack (c) 2020 under CC-BY 4.0: https://creativecommons.org/licenses/by/4.0/\n",
        "\n",
        "ORIGINAL_IMAGE = \"/content/Lisa.png\" # The filename of the image you want to stipple goes here.\n",
        "NUMBER_OF_POINTS = 1024*2 # Total number of points to stipple your image with\n",
        "NUMBER_OF_ITERATIONS = 10 # Number of iterations for the algorithm to evenly spread out all the points. Increase if it looks like all the points haven't 'settled' after the last few iterations.\n",
        "POINT_SIZE = \"1.0 1.0\" # Sets of the point size of dots to appear on the final iteration. Currently untested.\n",
        "FIGURE_SIZE = 4 # Size of the window that shows the points and their iterations.\n",
        "THRESHOLD = 255 # Sets a cutoff point X between black and white (0-255) where any value between X and 255 (white) is considered the 'background' and will not be 'covered' by a dot.\n",
        "\n",
        "full_command = \"weighted-voronoi-stippler/stippler.py \" + ORIGINAL_IMAGE\n",
        "full_command += \" --save\"\n",
        "full_command += \" --n_point \" + str(NUMBER_OF_POINTS)\n",
        "full_command += \" --n_iter \" + str(NUMBER_OF_ITERATIONS)\n",
        "full_command += \" --pointsize \" + POINT_SIZE\n",
        "full_command += \" --figsize \" + str(FIGURE_SIZE)\n",
        "full_command += \" --threshold \" + str(THRESHOLD)\n",
        "full_command += \" --force\"\n",
        "full_command += \" --interactive\"\n",
        "full_command += \" --png\"\n",
        "\n",
        "!python3 {full_command}"
      ]
    },
    {
      "cell_type": "code",
      "execution_count": null,
      "metadata": {
        "colab": {
          "base_uri": "https://localhost:8080/",
          "height": 501
        },
        "id": "JQj2wSXOOt-U",
        "outputId": "14d83cd3-298b-4891-b10b-bf062da50cf2"
      },
      "outputs": [],
      "source": [
        "#@title Observe the result\n",
        "from PIL import Image\n",
        "png_file = f'{ORIGINAL_IMAGE.removesuffix(\".png\")}-{NUMBER_OF_POINTS}-stipple.png'\n",
        "im = Image.open(png_file)\n",
        "im"
      ]
    }
  ],
  "metadata": {
    "colab": {
      "provenance": []
    },
    "kernelspec": {
      "display_name": "Python 3",
      "name": "python3"
    },
    "language_info": {
      "name": "python"
    }
  },
  "nbformat": 4,
  "nbformat_minor": 0
}
